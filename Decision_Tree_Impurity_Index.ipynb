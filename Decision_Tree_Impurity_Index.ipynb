{
 "cells": [
  {
   "cell_type": "markdown",
   "id": "a98cbba8",
   "metadata": {
    "toc": "true"
   },
   "source": [
    "# Table of Contents\n",
    " <p><div class=\"lev1 toc-item\"><a href=\"#Decision-Tree\" data-toc-modified-id=\"Decision-Tree-1\"><span class=\"toc-item-num\">1&nbsp;&nbsp;</span>Decision Tree</a></div><div class=\"lev2 toc-item\"><a href=\"#Create-input-data\" data-toc-modified-id=\"Create-input-data-11\"><span class=\"toc-item-num\">1.1&nbsp;&nbsp;</span>Create input data</a></div><div class=\"lev2 toc-item\"><a href=\"#概念\" data-toc-modified-id=\"概念-12\"><span class=\"toc-item-num\">1.2&nbsp;&nbsp;</span>概念</a></div><div class=\"lev3 toc-item\"><a href=\"#Example-5.2-计算系统的熵\" data-toc-modified-id=\"Example-5.2-计算系统的熵-121\"><span class=\"toc-item-num\">1.2.1&nbsp;&nbsp;</span>Example 5.2 计算系统的熵</a></div><div class=\"lev3 toc-item\"><a href=\"#Example-5.3-计算系统的增益熵，并且选择\" data-toc-modified-id=\"Example-5.3-计算系统的增益熵，并且选择-122\"><span class=\"toc-item-num\">1.2.2&nbsp;&nbsp;</span>Example 5.3 计算系统的增益熵，并且选择</a></div><div class=\"lev4 toc-item\"><a href=\"#算法-ID-3\" data-toc-modified-id=\"算法-ID-3-1221\"><span class=\"toc-item-num\">1.2.2.1&nbsp;&nbsp;</span>算法 ID-3</a></div><div class=\"lev2 toc-item\"><a href=\"#CART-算法\" data-toc-modified-id=\"CART-算法-13\"><span class=\"toc-item-num\">1.3&nbsp;&nbsp;</span>CART 算法</a></div><div class=\"lev3 toc-item\"><a href=\"#Example-5.4-Compute-Gini-Index\" data-toc-modified-id=\"Example-5.4-Compute-Gini-Index-131\"><span class=\"toc-item-num\">1.3.1&nbsp;&nbsp;</span>Example 5.4 Compute Gini Index</a></div><div class=\"lev2 toc-item\"><a href=\"#StatQuest:-Decision\" data-toc-modified-id=\"StatQuest:-Decision-14\"><span class=\"toc-item-num\">1.4&nbsp;&nbsp;</span>StatQuest: Decision</a></div><div class=\"lev3 toc-item\"><a href=\"#Given-a-attribute-and-it's-val,-compute-Gini-index\" data-toc-modified-id=\"Given-a-attribute-and-it's-val,-compute-Gini-index-141\"><span class=\"toc-item-num\">1.4.1&nbsp;&nbsp;</span>Given a attribute and it's val, compute Gini index</a></div><div class=\"lev4 toc-item\"><a href=\"#Unit-Test\" data-toc-modified-id=\"Unit-Test-1411\"><span class=\"toc-item-num\">1.4.1.1&nbsp;&nbsp;</span>Unit Test</a></div><div class=\"lev1 toc-item\"><a href=\"#Ignore-below\" data-toc-modified-id=\"Ignore-below-2\"><span class=\"toc-item-num\">2&nbsp;&nbsp;</span>Ignore below</a></div>"
   ]
  },
  {
   "cell_type": "markdown",
   "id": "34b70154",
   "metadata": {},
   "source": [
    "# Decision Tree"
   ]
  },
  {
   "cell_type": "markdown",
   "id": "0105f030",
   "metadata": {},
   "source": [
    "## Create input data"
   ]
  },
  {
   "cell_type": "code",
   "execution_count": 4,
   "id": "66076e2a",
   "metadata": {},
   "outputs": [],
   "source": [
    "import pandas as pd\n",
    "import numpy as np"
   ]
  },
  {
   "cell_type": "code",
   "execution_count": 5,
   "id": "41cac3a4",
   "metadata": {},
   "outputs": [],
   "source": [
    "age = ['young'] * 5 + ['adult'] * 5 + ['old'] * 5\n",
    "work = ['unemployed'] * 2 + ['employed'] * 2 + ['unemployed'] * 3 + ['employed'] + ['unemployed'] * 4 + ['employed'] * 2 + ['unemployed'] * 1\n",
    "house = ['no'] * 3 + ['yes'] * 1 + ['no'] * 3 + ['yes'] * 5 + ['no'] * 3\n",
    "credit = ['regular'] + ['good'] * 2 + ['regular'] * 3 + ['good'] * 2 + ['perfect'] * 3 + ['good'] * 2 + ['perfect'] + ['regular']\n",
    "target = [0] * 2 + [1] * 2 + [0] * 3 + [1] * 7 + [0]\n",
    "df = pd.DataFrame({'ID':range(1, len(target)+1),'age':age, 'work':work, 'house':house, 'credt':credit, 'Y':target})"
   ]
  },
  {
   "cell_type": "code",
   "execution_count": 6,
   "id": "297cf9cf",
   "metadata": {},
   "outputs": [
    {
     "data": {
      "text/html": [
       "<div>\n",
       "<style scoped>\n",
       "    .dataframe tbody tr th:only-of-type {\n",
       "        vertical-align: middle;\n",
       "    }\n",
       "\n",
       "    .dataframe tbody tr th {\n",
       "        vertical-align: top;\n",
       "    }\n",
       "\n",
       "    .dataframe thead th {\n",
       "        text-align: right;\n",
       "    }\n",
       "</style>\n",
       "<table border=\"1\" class=\"dataframe\">\n",
       "  <thead>\n",
       "    <tr style=\"text-align: right;\">\n",
       "      <th></th>\n",
       "      <th>ID</th>\n",
       "      <th>age</th>\n",
       "      <th>work</th>\n",
       "      <th>house</th>\n",
       "      <th>credt</th>\n",
       "      <th>Y</th>\n",
       "    </tr>\n",
       "  </thead>\n",
       "  <tbody>\n",
       "    <tr>\n",
       "      <th>0</th>\n",
       "      <td>1</td>\n",
       "      <td>young</td>\n",
       "      <td>unemployed</td>\n",
       "      <td>no</td>\n",
       "      <td>regular</td>\n",
       "      <td>0</td>\n",
       "    </tr>\n",
       "    <tr>\n",
       "      <th>1</th>\n",
       "      <td>2</td>\n",
       "      <td>young</td>\n",
       "      <td>unemployed</td>\n",
       "      <td>no</td>\n",
       "      <td>good</td>\n",
       "      <td>0</td>\n",
       "    </tr>\n",
       "    <tr>\n",
       "      <th>2</th>\n",
       "      <td>3</td>\n",
       "      <td>young</td>\n",
       "      <td>employed</td>\n",
       "      <td>no</td>\n",
       "      <td>good</td>\n",
       "      <td>1</td>\n",
       "    </tr>\n",
       "    <tr>\n",
       "      <th>3</th>\n",
       "      <td>4</td>\n",
       "      <td>young</td>\n",
       "      <td>employed</td>\n",
       "      <td>yes</td>\n",
       "      <td>regular</td>\n",
       "      <td>1</td>\n",
       "    </tr>\n",
       "    <tr>\n",
       "      <th>4</th>\n",
       "      <td>5</td>\n",
       "      <td>young</td>\n",
       "      <td>unemployed</td>\n",
       "      <td>no</td>\n",
       "      <td>regular</td>\n",
       "      <td>0</td>\n",
       "    </tr>\n",
       "    <tr>\n",
       "      <th>5</th>\n",
       "      <td>6</td>\n",
       "      <td>adult</td>\n",
       "      <td>unemployed</td>\n",
       "      <td>no</td>\n",
       "      <td>regular</td>\n",
       "      <td>0</td>\n",
       "    </tr>\n",
       "    <tr>\n",
       "      <th>6</th>\n",
       "      <td>7</td>\n",
       "      <td>adult</td>\n",
       "      <td>unemployed</td>\n",
       "      <td>no</td>\n",
       "      <td>good</td>\n",
       "      <td>0</td>\n",
       "    </tr>\n",
       "    <tr>\n",
       "      <th>7</th>\n",
       "      <td>8</td>\n",
       "      <td>adult</td>\n",
       "      <td>employed</td>\n",
       "      <td>yes</td>\n",
       "      <td>good</td>\n",
       "      <td>1</td>\n",
       "    </tr>\n",
       "    <tr>\n",
       "      <th>8</th>\n",
       "      <td>9</td>\n",
       "      <td>adult</td>\n",
       "      <td>unemployed</td>\n",
       "      <td>yes</td>\n",
       "      <td>perfect</td>\n",
       "      <td>1</td>\n",
       "    </tr>\n",
       "    <tr>\n",
       "      <th>9</th>\n",
       "      <td>10</td>\n",
       "      <td>adult</td>\n",
       "      <td>unemployed</td>\n",
       "      <td>yes</td>\n",
       "      <td>perfect</td>\n",
       "      <td>1</td>\n",
       "    </tr>\n",
       "    <tr>\n",
       "      <th>10</th>\n",
       "      <td>11</td>\n",
       "      <td>old</td>\n",
       "      <td>unemployed</td>\n",
       "      <td>yes</td>\n",
       "      <td>perfect</td>\n",
       "      <td>1</td>\n",
       "    </tr>\n",
       "    <tr>\n",
       "      <th>11</th>\n",
       "      <td>12</td>\n",
       "      <td>old</td>\n",
       "      <td>unemployed</td>\n",
       "      <td>yes</td>\n",
       "      <td>good</td>\n",
       "      <td>1</td>\n",
       "    </tr>\n",
       "    <tr>\n",
       "      <th>12</th>\n",
       "      <td>13</td>\n",
       "      <td>old</td>\n",
       "      <td>employed</td>\n",
       "      <td>no</td>\n",
       "      <td>good</td>\n",
       "      <td>1</td>\n",
       "    </tr>\n",
       "    <tr>\n",
       "      <th>13</th>\n",
       "      <td>14</td>\n",
       "      <td>old</td>\n",
       "      <td>employed</td>\n",
       "      <td>no</td>\n",
       "      <td>perfect</td>\n",
       "      <td>1</td>\n",
       "    </tr>\n",
       "    <tr>\n",
       "      <th>14</th>\n",
       "      <td>15</td>\n",
       "      <td>old</td>\n",
       "      <td>unemployed</td>\n",
       "      <td>no</td>\n",
       "      <td>regular</td>\n",
       "      <td>0</td>\n",
       "    </tr>\n",
       "  </tbody>\n",
       "</table>\n",
       "</div>"
      ],
      "text/plain": [
       "    ID    age        work house    credt  Y\n",
       "0    1  young  unemployed    no  regular  0\n",
       "1    2  young  unemployed    no     good  0\n",
       "2    3  young    employed    no     good  1\n",
       "3    4  young    employed   yes  regular  1\n",
       "4    5  young  unemployed    no  regular  0\n",
       "5    6  adult  unemployed    no  regular  0\n",
       "6    7  adult  unemployed    no     good  0\n",
       "7    8  adult    employed   yes     good  1\n",
       "8    9  adult  unemployed   yes  perfect  1\n",
       "9   10  adult  unemployed   yes  perfect  1\n",
       "10  11    old  unemployed   yes  perfect  1\n",
       "11  12    old  unemployed   yes     good  1\n",
       "12  13    old    employed    no     good  1\n",
       "13  14    old    employed    no  perfect  1\n",
       "14  15    old  unemployed    no  regular  0"
      ]
     },
     "execution_count": 6,
     "metadata": {},
     "output_type": "execute_result"
    }
   ],
   "source": [
    "df"
   ]
  },
  {
   "cell_type": "markdown",
   "id": "f20495eb",
   "metadata": {},
   "source": [
    "## 概念"
   ]
  },
  {
   "cell_type": "markdown",
   "id": "5fb6ffd0",
   "metadata": {},
   "source": [
    "Entropy\n",
    "\n",
    "$H(p) = -\\sum_{i=1}^n p_i \\log_2 p_i$\n",
    "\n",
    "Gini-index\n",
    "\n",
    "$Gini(p) = \\sum_{k=1}^K p_k(1-p_k) = 1-\\sum_{k=1}^K p_k^2$\n",
    "\n",
    "The heuristic explaination is, we are looking at any two elements, and the probability of them not in the same partition.\n",
    "\n",
    "$p * (1-p)$\n"
   ]
  },
  {
   "cell_type": "markdown",
   "id": "9bd5ab2c",
   "metadata": {},
   "source": [
    "越大系统的有效信息越少，说明越混乱（无聊）"
   ]
  },
  {
   "cell_type": "markdown",
   "id": "2fc8e9e4",
   "metadata": {},
   "source": [
    "**对于熵，我们定义**：\n",
    "\n",
    "Compute entropy of a system without any classification, using $D$ and $H(D)$, find all the target Y/N, use \n",
    "\n",
    "$H(D) = -\\sum_{k=1}^K \\frac{|C_k|}{|D|}\\log_2 \\frac{|C_k|}{|D|}$\n",
    "where $K$ here indicates the classification or categories of our target\n",
    "\n",
    "同时我们计算conditional entropy\n",
    "$H(D|A) = \\sum_{i=1}^n \\frac{|D_i|}{|D|}H(D_i)$, 每一个$i$ 代表沿着某一个特征$A$的分类，同时定义\n",
    "\n",
    "$f(D,A)= H(D) - H(D|A)$\n",
    "\n",
    "因为系统的entropy代表稳定与否，这个差越大，说明分类越好"
   ]
  },
  {
   "cell_type": "markdown",
   "id": "bc3f412f",
   "metadata": {},
   "source": [
    "**同时，对于基尼系数：**\n",
    "\n",
    "$Gini(D) = 1- \\sum_{k=1}^K\\Big( \\frac{|C_i|}{|D|}\\Big)^2$\n",
    "\n",
    "$Gini(D,A=a) = \\frac{|D_1|}{|D|} Gini(D_1) + \\frac{|D_2|}{|D|} Gini(D_2) $\n",
    "\n",
    "**！！！特别注意：这里的$k$代表我们的target 里面的种类，$A$代表沿着特征的A分类，$D_1$代表 $A=a$的个数， $D_2$ 代表$A!=a$的个数, C_i 代表的是target里面的每种类型的个数**\n",
    "\n",
    "**这里说明，Gini指数不仅用来选取最优特征，还用来选择最优切分点。而在ID3和C4.5算法中，信息熵并没有用此来计算最优切分点而仅仅用来选择最优特征。**"
   ]
  },
  {
   "cell_type": "code",
   "execution_count": null,
   "id": "c8f16cca",
   "metadata": {},
   "outputs": [],
   "source": []
  },
  {
   "cell_type": "code",
   "execution_count": null,
   "id": "325c47ed",
   "metadata": {},
   "outputs": [],
   "source": []
  },
  {
   "cell_type": "code",
   "execution_count": 7,
   "id": "d302fe1d",
   "metadata": {},
   "outputs": [],
   "source": [
    "def H_D_condition_A(df, A, D='Y'):\n",
    "    K_elements = df[A].unique()\n",
    "    size_D = df.shape[0]\n",
    "    ans = 0\n",
    "    for i in K_elements:\n",
    "        D_i = df.loc[df[A]==i]\n",
    "        size_Di = D_i.shape[0]\n",
    "        ans += size_Di/size_D * H_D(D_i)\n",
    "    return ans\n",
    "\n",
    "def H_D(df,D='Y'):\n",
    "    df = df.copy()\n",
    "    HD = df.groupby([D])[[D]].count()\n",
    "    HD['tot'] = HD[D].sum()\n",
    "    HD['c_k/D'] = HD[D]/HD['tot']\n",
    "    HD['ln(c_k/D)'] = np.log2(HD['Y']/HD['tot'])\n",
    "    HD['HD_k'] = - HD['c_k/D'] * HD['ln(c_k/D)']\n",
    "    HD_scalar = HD['HD_k'].sum()\n",
    "    return HD_scalar\n",
    "\n",
    "def Gini_D(df, D='Y'):\n",
    "    \n",
    "    df = df.copy()\n",
    "    Gini = df.groupby([D])[[D]].count()\n",
    "    Gini['tot'] = Gini[D].sum()\n",
    "    Gini['c_k/D'] = Gini[D]/Gini['tot']\n",
    "    Gini['(c_k/D)^2'] = Gini['c_k/D'] * Gini['c_k/D']\n",
    "    Gini_scalar = 1 - Gini['(c_k/D)^2'].sum()\n",
    "    #print(Gini)\n",
    "    return Gini_scalar\n",
    "\n",
    "def g(df, A, D='Y'):\n",
    "    return H_D(df) - H_D_condition_A(df, A)\n",
    "\n",
    "\n",
    "def Gini_D_A(df, A, a, D='Y'):\n",
    "    df_a = df.loc[df[A]==a]\n",
    "    df_not_a = df.loc[df[A]!=a]\n",
    "    return df_a.shape[0]/df.shape[0] * Gini_D(df_a, D) + df_not_a.shape[0]/df.shape[0] * Gini_D(df_not_a, D)\n",
    "    "
   ]
  },
  {
   "cell_type": "markdown",
   "id": "bef1b8b9",
   "metadata": {},
   "source": [
    "### Example 5.2 计算系统的熵"
   ]
  },
  {
   "cell_type": "code",
   "execution_count": 8,
   "id": "2198bffe",
   "metadata": {},
   "outputs": [
    {
     "name": "stdout",
     "output_type": "stream",
     "text": [
      "age 0.083\n",
      "work 0.324\n",
      "house 0.420\n",
      "credt 0.363\n",
      "Y 0.971\n"
     ]
    }
   ],
   "source": [
    "for col in df.columns:\n",
    "    if col=='ID':\n",
    "        continue\n",
    "    print(col, \"{:.3f}\".format(g(df, col)))\n",
    "\n",
    "assert round(g(df, 'age'),3) == 0.083\n",
    "#age 0.083\n",
    "#work 0.324\n",
    "#house 0.420\n",
    "#credt 0.363\n",
    "#Y 0.971"
   ]
  },
  {
   "cell_type": "markdown",
   "id": "831b353f",
   "metadata": {},
   "source": [
    "### Example 5.3 计算系统的增益熵，并且选择"
   ]
  },
  {
   "cell_type": "markdown",
   "id": "0c446371",
   "metadata": {},
   "source": [
    "#### 算法 ID-3"
   ]
  },
  {
   "cell_type": "markdown",
   "id": "a0b239ef",
   "metadata": {},
   "source": [
    "这个例子说明，当我们有很多的feature 时，怎么判断他们的顺序，那就是 g(增益熵）越大的分类最新利用；\n",
    "接着下一步分类"
   ]
  },
  {
   "cell_type": "markdown",
   "id": "f475267a",
   "metadata": {},
   "source": [
    "Here we look at the third feature $A_3$, and since the corresponding $Y$ under $A_3='yes'$ or $D_1$ is all $1$, thus we ignore it and only look at $D_2=0$."
   ]
  },
  {
   "cell_type": "code",
   "execution_count": 9,
   "id": "b221ff11",
   "metadata": {},
   "outputs": [
    {
     "name": "stdout",
     "output_type": "stream",
     "text": [
      "Y= [1]\n",
      "age 0.252\n",
      "work 0.918\n",
      "credt 0.474\n"
     ]
    }
   ],
   "source": [
    "# if we select house is 'no'\n",
    "# then, we look at other features\n",
    "A2 = 'house'\n",
    "print(\"Y=\", df.loc[df[A2]=='yes']['Y'].unique()) # --> this subset always gives Y=1, ignore it. Look at 'no'\n",
    "for col in df.columns:\n",
    "    if col in ['ID', 'house', 'Y']:\n",
    "        continue\n",
    "    df_temp = df.loc[df['house']=='no']\n",
    "    print(col, \"{:.3f}\".format(g(df_temp, col)))\n",
    "\n",
    "#Y= [1]\n",
    "#age 0.252\n",
    "#work 0.918\n",
    "#credt 0.474"
   ]
  },
  {
   "cell_type": "markdown",
   "id": "e04af46b",
   "metadata": {},
   "source": [
    "## CART 算法"
   ]
  },
  {
   "cell_type": "markdown",
   "id": "77b7270b",
   "metadata": {},
   "source": [
    "### Example 5.4 Compute Gini Index"
   ]
  },
  {
   "cell_type": "code",
   "execution_count": 12,
   "id": "48c5bf09",
   "metadata": {},
   "outputs": [
    {
     "name": "stdout",
     "output_type": "stream",
     "text": [
      "*******\n",
      "*******\n",
      "Gini(D, A_1, age=young) = 0.440\n",
      "Gini(D, A_1, age=adult) = 0.480\n",
      "Gini(D, A_1, age=old) = 0.440\n",
      "*******\n",
      "Gini(D, A_2, work=unemployed) = 0.320\n",
      "Gini(D, A_2, work=employed) = 0.320\n",
      "*******\n",
      "Gini(D, A_3, house=no) = 0.267\n",
      "Gini(D, A_3, house=yes) = 0.267\n",
      "*******\n",
      "Gini(D, A_4, credt=regular) = 0.320\n",
      "Gini(D, A_4, credt=good) = 0.474\n",
      "Gini(D, A_4, credt=perfect) = 0.364\n",
      "*******\n"
     ]
    }
   ],
   "source": [
    "# A_1, age\n",
    "\n",
    "for count, A in enumerate(df.columns):\n",
    "    print(\"*******\")\n",
    "    if A in ['ID', 'Y']:\n",
    "        continue\n",
    "\n",
    "    uniques = df[A].unique()\n",
    "    for a in uniques:\n",
    "\n",
    "        gini = Gini_D_A(df, A, a) # note, gini needs to first select attribute, then value of this attribute\n",
    "        print(\"Gini(D, A_{}, {}={}) = {:.3f}\".format(count, A, a, gini))"
   ]
  },
  {
   "cell_type": "markdown",
   "id": "9006acb1",
   "metadata": {},
   "source": [
    "## StatQuest: Decision"
   ]
  },
  {
   "cell_type": "markdown",
   "id": "70f8b148",
   "metadata": {},
   "source": [
    "### Given a attribute and it's val, compute Gini index"
   ]
  },
  {
   "cell_type": "code",
   "execution_count": 16,
   "id": "22b21cf4",
   "metadata": {},
   "outputs": [],
   "source": [
    "\n",
    "data=[7, 26, 6, 76]\n",
    "node_name = \"Chest_Pain\"\n",
    "def one_split_gini(data, node_name=\"ignore\"):\n",
    "\n",
    "    df2=pd.DataFrame({node_name:[\"yes\"]*(data[0]+data[1]) + [\"no\"]*(data[2]+data[3]), \"Y\":[1]*data[0] + [0]*data[1] + [1]*data[2] + [0]*data[3]})\n",
    "    after_split = Gini_D_A(df2, A=node_name, a='yes')\n",
    "    before_split = Gini_D(df2)\n",
    "    if after_split > before_split:\n",
    "        print(\"Warning! Splitting maeks worse.\")\n",
    "    return before_split, after_split"
   ]
  },
  {
   "cell_type": "code",
   "execution_count": 17,
   "id": "317886ca",
   "metadata": {},
   "outputs": [
    {
     "name": "stdout",
     "output_type": "stream",
     "text": [
      "(0.4965961942728926, 0.36413900824044665)\n",
      "(0.49700143976238254, 0.3600300949466547)\n",
      "(0.49700143976238254, 0.3808017564675821)\n",
      "(0.3494199881023201, 0.30011649938019014)\n",
      "(0.2410181359044996, 0.2398838103827891)\n",
      "(0.20052930056710783, 0.1926282978244802)\n"
     ]
    }
   ],
   "source": [
    "test_input = [[105, 39, 34, 125], [37, 127, 100, 33], [92, 31, 45, 129], [13, 98, 24, 29], [24, 125, 13, 102], [7, 26, 6, 76]]\n",
    "for test in test_input:\n",
    "    print(one_split_gini(test))"
   ]
  },
  {
   "cell_type": "code",
   "execution_count": 19,
   "id": "22aa5b9c",
   "metadata": {},
   "outputs": [
    {
     "data": {
      "text/plain": [
       "0.49659619427289264"
      ]
     },
     "execution_count": 19,
     "metadata": {},
     "output_type": "execute_result"
    }
   ],
   "source": [
    "1-(139/(139+164))*(139/(139+164)) - (164/(139+164)*(164/(139+164)))"
   ]
  },
  {
   "cell_type": "markdown",
   "id": "33113d3a",
   "metadata": {},
   "source": [
    "#### Unit Test"
   ]
  },
  {
   "cell_type": "code",
   "execution_count": 282,
   "id": "f7be9766",
   "metadata": {},
   "outputs": [],
   "source": [
    "expected = (7+26)/(7+26+6+76) * (1-7/33*7/33 - 26/33 * 26/33) + (6+76)/(7+26+6+76)*(1-6/82*6/82 - 76/82*76/82)\n",
    "\n",
    "assert abs(after_split - expected)< 1e-5"
   ]
  },
  {
   "cell_type": "code",
   "execution_count": null,
   "id": "316d5534",
   "metadata": {},
   "outputs": [],
   "source": []
  }
 ],
 "metadata": {
  "kernelspec": {
   "display_name": "Python 3",
   "language": "python",
   "name": "python3"
  },
  "language_info": {
   "codemirror_mode": {
    "name": "ipython",
    "version": 3
   },
   "file_extension": ".py",
   "mimetype": "text/x-python",
   "name": "python",
   "nbconvert_exporter": "python",
   "pygments_lexer": "ipython3",
   "version": "3.8.7"
  },
  "toc": {
   "colors": {
    "hover_highlight": "#DAA520",
    "running_highlight": "#FF0000",
    "selected_highlight": "#FFD700"
   },
   "moveMenuLeft": true,
   "nav_menu": {
    "height": "243px",
    "width": "252px"
   },
   "navigate_menu": true,
   "number_sections": true,
   "sideBar": true,
   "threshold": 4,
   "toc_cell": true,
   "toc_section_display": "block",
   "toc_window_display": true,
   "widenNotebook": false
  }
 },
 "nbformat": 4,
 "nbformat_minor": 5
}
